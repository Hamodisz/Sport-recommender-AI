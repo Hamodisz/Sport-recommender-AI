{
 "cells": [
  {
   "cell_type": "code",
   "execution_count": null,
   "id": "91a421af",
   "metadata": {},
   "outputs": [],
   "source": [
    "!pip install openai"
   ]
  },
  {
   "cell_type": "code",
   "execution_count": null,
   "id": "4ff32bd0",
   "metadata": {},
   "outputs": [],
   "source": [
    "import json\n",
    "import openai\n",
    "import os\n",
    "from google.colab import files"
   ]
  },
  {
   "cell_type": "code",
   "execution_count": null,
   "id": "e9ca20ff",
   "metadata": {},
   "outputs": [],
   "source": [
    "# 🔐 أدخل مفتاح OpenAI هنا\n",
    "openai.api_key = \"sk-ضع_مفتاحك_هنا\""
   ]
  },
  {
   "cell_type": "code",
   "execution_count": null,
   "id": "927c110a",
   "metadata": {},
   "outputs": [],
   "source": [
    "language = input(\"اختر اللغة (ar للعربية / en للإنجليزية): \").strip().lower()\n",
    "if language == 'ar':\n",
    "    file_name = 'arabic_questions_v2.json'\n",
    "elif language == 'en':\n",
    "    file_name = 'english_questions_v2.json'\n",
    "else:\n",
    "    raise ValueError('Language not supported. Please enter ar or en.')\n",
    "\n",
    "print(f\"يرجى رفع الملف: {file_name}\")\n",
    "uploaded = files.upload()\n",
    "with open(file_name, encoding='utf-8') as f:\n",
    "    questions = json.load(f)"
   ]
  },
  {
   "cell_type": "code",
   "execution_count": null,
   "id": "e4cd17cc",
   "metadata": {},
   "outputs": [],
   "source": [
    "answers = []\n",
    "for i, question in enumerate(questions):\n",
    "    print(f\"\\nالسؤال {i+1}: {question}\" if language == 'ar' else f\"\\nQuestion {i+1}: {question}\")\n",
    "    answer = input(\"إجابتك: \" if language == 'ar' else \"Your answer: \")\n",
    "    answers.append(answer)"
   ]
  },
  {
   "cell_type": "code",
   "execution_count": null,
   "id": "735fa934",
   "metadata": {},
   "outputs": [],
   "source": [
    "description = \"\\n\".join(answers)\n",
    "print(\"\\nالوصف الناتج:\\n\" if language == 'ar' else \"\\nGenerated description:\\n\")\n",
    "print(description)"
   ]
  },
  {
   "cell_type": "code",
   "execution_count": null,
   "id": "bfce176e",
   "metadata": {},
   "outputs": [],
   "source": [
    "prompt_ar = \"أنت خبير في علم النفس الرياضي. وظيفتك أن ترشح أنسب رياضة لهذا الشخص بناءً على وصفه.\"\n",
    "prompt_en = \"You are an expert in sports psychology. Your task is to recommend the most suitable sport for this person based on their description.\"\n",
    "\n",
    "response = openai.ChatCompletion.create(\n",
    "    model=\"gpt-4\",\n",
    "    messages=[\n",
    "        {\"role\": \"system\", \"content\": prompt_ar if language == 'ar' else prompt_en},\n",
    "        {\"role\": \"user\", \"content\": description}\n",
    "    ]\n",
    ")\n",
    "\n",
    "print(\"\\n💡 التوصية الرياضية:\\n\" if language == 'ar' else \"\\n💡 Sport recommendation:\\n\")\n",
    "print(response['choices'][0]['message']['content'])"
   ]
  }
 ],
 "metadata": {},
 "nbformat": 4,
 "nbformat_minor": 5
}
