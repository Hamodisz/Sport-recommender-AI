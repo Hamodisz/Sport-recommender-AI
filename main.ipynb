{
 "cells": [
  {
   "cell_type": "markdown",
   "id": "346aa8a4",
   "metadata": {},
   "source": [
    "# 🧠 Sport Recommender AI\n",
    "نموذج ذكاء اصطناعي يوصي بالرياضة المناسبة بناءً على إجاباتك الشخصية."
   ]
  },
  {
   "cell_type": "code",
   "execution_count": null,
   "id": "c9761cbb",
   "metadata": {},
   "outputs": [],
   "source": [
    "!pip install openai"
   ]
  },
  {
   "cell_type": "code",
   "execution_count": null,
   "id": "064c0bd8",
   "metadata": {},
   "outputs": [],
   "source": [
    "import json\n",
    "import openai\n",
    "import os"
   ]
  },
  {
   "cell_type": "code",
   "execution_count": null,
   "id": "4b822438",
   "metadata": {},
   "outputs": [],
   "source": [
    "# 🔐 أدخل مفتاح OpenAI API الخاص بك هنا مباشرة\n",
    "openai.api_key = \"sk-ضع_مفتاحك_هنا\""
   ]
  },
  {
   "cell_type": "markdown",
   "id": "c6b472e0",
   "metadata": {},
   "source": [
    "## 📝 تحميل الأسئلة من ملف JSON"
   ]
  },
  {
   "cell_type": "code",
   "execution_count": null,
   "id": "f3b65738",
   "metadata": {},
   "outputs": [],
   "source": [
    "from google.colab import files\n",
    "uploaded = files.upload()\n",
    "\n",
    "with open(\"questions.json\", encoding=\"utf-8\") as f:\n",
    "    questions = json.load(f)"
   ]
  },
  {
   "cell_type": "markdown",
   "id": "09afcbbf",
   "metadata": {},
   "source": [
    "## ✅ عرض الأسئلة وجمع الإجابات"
   ]
  },
  {
   "cell_type": "code",
   "execution_count": null,
   "id": "cdf26e70",
   "metadata": {},
   "outputs": [],
   "source": [
    "answers = []\n",
    "\n",
    "for q in questions:\n",
    "    print(\"\\n\" + q[\"question\"])\n",
    "    for idx, option in enumerate(q[\"options\"], start=1):\n",
    "        print(f\"{idx}. {option}\")\n",
    "    \n",
    "    choice = int(input(\"اختر رقم الإجابة: \")) - 1\n",
    "    answers.append(q[\"options\"][choice])"
   ]
  },
  {
   "cell_type": "markdown",
   "id": "ac3db86a",
   "metadata": {},
   "source": [
    "## ✨ تحويل الإجابات إلى وصف شخصية"
   ]
  },
  {
   "cell_type": "code",
   "execution_count": null,
   "id": "38e67f2b",
   "metadata": {},
   "outputs": [],
   "source": [
    "description = \"أنا شخص \" + \"، و\".join([\n",
    "    \"أفضل الرياضات \" + (\"الفردية\" if answers[0] == \"فردي\" else \"الجماعية\"),\n",
    "    \"أسعى إلى \" + answers[1],\n",
    "    (\"أمل من التكرار\" if answers[2] == \"نعم\" else \"لا أمانع التكرار\"),\n",
    "    (\"عندي طاقة عالية\" if answers[3] == \"نعم\" else \"طاقة منخفضة\"),\n",
    "    \"أميل للحركات \" + answers[4],\n",
    "    (\"أحب المخاطرة\" if answers[5] == \"نعم\" else \"أفضل الأمان\"),\n",
    "    (\"أركز على الشكل الجسدي\" if answers[6] == \"الشكل\" else \"أبحث عن الشعور الجيد\")\n",
    "]) + \".\"\n",
    "\n",
    "print(\"\\n🔎 الوصف الناتج:\")\n",
    "print(description)"
   ]
  },
  {
   "cell_type": "markdown",
   "id": "bf14abc2",
   "metadata": {},
   "source": [
    "## 🤖 إرسال الوصف إلى GPT للحصول على التوصية"
   ]
  },
  {
   "cell_type": "code",
   "execution_count": null,
   "id": "a4ba1056",
   "metadata": {},
   "outputs": [],
   "source": [
    "response = openai.ChatCompletion.create(\n",
    "    model=\"gpt-4\",\n",
    "    messages=[\n",
    "        {\"role\": \"system\", \"content\": \"أنت خبير في علم النفس الرياضي. وظيفتك هي ترشيح أفضل رياضة لهذا الشخص بناءً على وصفه الشخصي.\"},\n",
    "        {\"role\": \"user\", \"content\": description}\n",
    "    ]\n",
    ")\n",
    "\n",
    "print(\"\\n💡 التوصية الرياضية:\")\n",
    "print(response[\"choices\"][0][\"message\"][\"content\"])"
   ]
  }
 ],
 "metadata": {},
 "nbformat": 4,
 "nbformat_minor": 5
}
